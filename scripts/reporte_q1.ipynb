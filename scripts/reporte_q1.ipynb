{
 "cells": [
  {
   "cell_type": "code",
   "execution_count": 1,
   "metadata": {},
   "outputs": [],
   "source": [
    "\n",
    "import zipfile\n",
    "import io\n",
    "import pandas as pd\n",
    "import re\n",
    "import numpy as np"
   ]
  },
  {
   "cell_type": "markdown",
   "metadata": {},
   "source": [
    "# Reporte Q1 ETL"
   ]
  },
  {
   "cell_type": "code",
   "execution_count": 2,
   "metadata": {},
   "outputs": [],
   "source": [
    "# Ruta del archivo ZIP\n",
    "zip_path = r\"C:\\Users\\aleja\\Downloads\\ReporteQ1.zip\"\n",
    "\n",
    "# Leer el contenido del archivo ZIP\n",
    "with zipfile.ZipFile(zip_path, 'r') as zip_file:\n",
    "    \n",
    "    html_file_name = zip_path.split('\\\\')[-1].replace('.zip', '.html')\n",
    "    \n",
    "    # Leer el contenido del archivo HTML dentro del ZIP\n",
    "    with zip_file.open(html_file_name) as html_file:\n",
    "        # Leer todas las tablas del archivo HTML\n",
    "        dfs = pd.read_html(io.BytesIO(html_file.read()))\n",
    "\n",
    "# Usar los nombres de las columnas de la primera tabla\n",
    "df_columns = dfs[0][:1].values\n",
    "\n",
    "# Procesar cada tabla y unirlas\n",
    "processed_dfs = []\n",
    "for df in dfs:\n",
    "    # Eliminar la primera y la última fila\n",
    "    df = df.iloc[1:-1]\n",
    "    # Resetear el índice\n",
    "    df = df.reset_index(drop=True)\n",
    "    processed_dfs.append(df)\n",
    "\n",
    "# Unir todos los DataFrames procesados\n",
    "df_q1 = pd.concat(processed_dfs, ignore_index=True)\n",
    "\n",
    "# Asignar los nombres de columnas al DataFrame combinado\n",
    "df_q1.columns = df_columns[0]\n",
    "\n",
    "# Elimina la ultima fila de totales\n",
    "df_q1 = df_q1[df_q1['Identificacion']!='Total']\n",
    "\n",
    "# Lista de columnas que quieres convertir a número\n",
    "numeric_columns = [col for col in df_q1.columns if col != 'Nombre']\n",
    "\n",
    "# Función para limpiar y convertir a número\n",
    "def limiar_y_convertir(x):\n",
    "    if pd.isna(x):\n",
    "        return x\n",
    "    # Eliminar puntos y reemplazar comas por puntos\n",
    "    cleaned = re.sub(r'[.,]', '', str(x))\n",
    "    try:\n",
    "        return int(cleaned)\n",
    "    except ValueError:\n",
    "        return x\n",
    "\n",
    "# Aplicar la limpieza y conversión a las columnas numéricas\n",
    "for col in numeric_columns:\n",
    "    df_q1[col] = df_q1[col].apply(limiar_y_convertir)\n",
    "\n",
    "\n",
    "# Crea la columna Total_cartera\n",
    "df_q1['Total_cartera']  = df_q1['Total Mora'] + df_q1['Saldo Corriente']\n"
   ]
  },
  {
   "cell_type": "code",
   "execution_count": 7,
   "metadata": {},
   "outputs": [],
   "source": [
    "#df_q1.to_excel('../files/dfq1.xlsx', sheet_name='base')"
   ]
  },
  {
   "cell_type": "markdown",
   "metadata": {},
   "source": [
    "# Otras bases de datos"
   ]
  },
  {
   "cell_type": "code",
   "execution_count": 3,
   "metadata": {},
   "outputs": [
    {
     "name": "stderr",
     "output_type": "stream",
     "text": [
      "C:\\Users\\aleja\\AppData\\Local\\Temp\\ipykernel_8020\\1489866834.py:5: DtypeWarning: Columns (13) have mixed types. Specify dtype option on import or set low_memory=False.\n",
      "  datos_basicos = pd.read_csv('../datos/datosbasicos.csv', sep=';')\n"
     ]
    }
   ],
   "source": [
    "categorias = pd.read_excel('../datos/LISTADO_DE_ALIADOS_Y_CATEGORIAS.xlsx', sheet_name='CATEGORIAS QUERY')\n",
    "recaudos = pd.read_csv('../datos/recaudos.csv', sep=';')\n",
    "ventas_historicas = pd.read_csv('../datos/ventas_historicas.csv', sep=';')\n",
    "reporte37 = pd.read_csv('../datos/reporte37.csv', sep=';')\n",
    "datos_basicos = pd.read_csv('../datos/datosbasicos.csv', sep=';')"
   ]
  },
  {
   "cell_type": "code",
   "execution_count": 4,
   "metadata": {},
   "outputs": [],
   "source": [
    "\n",
    "# Función para verificar si un valor es numérico \n",
    "def numerico(value):\n",
    "    str(value).strip()\n",
    "    try:\n",
    "        int(value)\n",
    "        return True\n",
    "    except ValueError:\n",
    "        return False\n",
    "    \n",
    "\n",
    "# Identificar las filas donde 'CEDULA' no es numérica\n",
    "mask = ~datos_basicos['CEDULA'].apply(numerico)\n",
    "\n",
    "cc_errada = datos_basicos[mask]\n",
    "\n",
    "def limpiar_cedula(cedula):\n",
    "    if pd.isna(cedula):\n",
    "        return cedula\n",
    "    # Eliminar todo excepto los dígitos\n",
    "    cedula_limpia = re.sub(r'\\D', '', cedula)\n",
    "    # Si después de limpiar queda vacío, devolver NaN\n",
    "    return pd.to_numeric(cedula_limpia) if cedula_limpia else 'error'\n",
    "\n",
    "# Aplicar la función limpiar_cedula solo a las filas que necesitan ser limpiadas\n",
    "datos_basicos.loc[mask, 'CEDULA'] = datos_basicos.loc[mask, 'CEDULA'].apply(limpiar_cedula)\n",
    "\n",
    "# Cownvierte la columna CEDULA A int\n",
    "datos_basicos['CEDULA'] = datos_basicos['CEDULA'].astype(float).astype('Int64')\n",
    "\n",
    "\n",
    "# Elimina las CC duplicadas\n",
    "datos_basicos.drop_duplicates(subset='CEDULA', inplace=True)\n",
    "\n",
    "# Elimina las CC duplicadas\n",
    "datos_basicos.drop_duplicates(subset='CEDULA', inplace=True)\n"
   ]
  },
  {
   "cell_type": "markdown",
   "metadata": {},
   "source": [
    "# Merge datos basicos"
   ]
  },
  {
   "cell_type": "code",
   "execution_count": 5,
   "metadata": {},
   "outputs": [],
   "source": [
    "merge_con_datosbasicos = pd.merge(df_q1, datos_basicos, left_on='Identificacion', right_on='CEDULA', how='left')"
   ]
  },
  {
   "cell_type": "code",
   "execution_count": null,
   "metadata": {},
   "outputs": [],
   "source": []
  },
  {
   "cell_type": "markdown",
   "metadata": {},
   "source": [
    "# Merge ventas"
   ]
  },
  {
   "cell_type": "code",
   "execution_count": 6,
   "metadata": {},
   "outputs": [],
   "source": [
    "ventas_mes = pd.read_csv('../datos/ventas.csv', sep=';')"
   ]
  },
  {
   "cell_type": "code",
   "execution_count": 7,
   "metadata": {},
   "outputs": [
    {
     "name": "stdout",
     "output_type": "stream",
     "text": [
      "Duplicados en ventas_mes:\n",
      "0\n",
      "\n",
      "Duplicados en ventas_historicas:\n",
      "1\n"
     ]
    }
   ],
   "source": [
    "print(\"Duplicados en ventas_mes:\")\n",
    "print(ventas_mes.duplicated().sum())\n",
    "\n",
    "print(\"\\nDuplicados en ventas_historicas:\")\n",
    "print(ventas_historicas.duplicated().sum())"
   ]
  },
  {
   "cell_type": "code",
   "execution_count": 8,
   "metadata": {},
   "outputs": [],
   "source": [
    "nana = ventas_historicas[ventas_historicas.duplicated()]"
   ]
  },
  {
   "cell_type": "code",
   "execution_count": 9,
   "metadata": {},
   "outputs": [
    {
     "data": {
      "text/plain": [
       "np.int64(0)"
      ]
     },
     "execution_count": 9,
     "metadata": {},
     "output_type": "execute_result"
    }
   ],
   "source": [
    "nana.value_counts().sum()"
   ]
  },
  {
   "cell_type": "code",
   "execution_count": 10,
   "metadata": {},
   "outputs": [
    {
     "ename": "NameError",
     "evalue": "name 'ventas' is not defined",
     "output_type": "error",
     "traceback": [
      "\u001b[1;31m---------------------------------------------------------------------------\u001b[0m",
      "\u001b[1;31mNameError\u001b[0m                                 Traceback (most recent call last)",
      "Cell \u001b[1;32mIn[10], line 1\u001b[0m\n\u001b[1;32m----> 1\u001b[0m merge_con_datosbasicos_ventas \u001b[38;5;241m=\u001b[39m pd\u001b[38;5;241m.\u001b[39mmerge(merge_con_datosbasicos, \u001b[43mventas\u001b[49m, left_on\u001b[38;5;241m=\u001b[39m\u001b[38;5;124m'\u001b[39m\u001b[38;5;124mPagare\u001b[39m\u001b[38;5;124m'\u001b[39m, right_on\u001b[38;5;241m=\u001b[39m\u001b[38;5;124m'\u001b[39m\u001b[38;5;124mNUMERO_DE_CREDITO\u001b[39m\u001b[38;5;124m'\u001b[39m, how\u001b[38;5;241m=\u001b[39m\u001b[38;5;124m'\u001b[39m\u001b[38;5;124mleft\u001b[39m\u001b[38;5;124m'\u001b[39m)\n",
      "\u001b[1;31mNameError\u001b[0m: name 'ventas' is not defined"
     ]
    }
   ],
   "source": [
    "merge_con_datosbasicos_ventas = pd.merge(merge_con_datosbasicos, ventas, left_on='Pagare', right_on='NUMERO_DE_CREDITO', how='left')"
   ]
  },
  {
   "cell_type": "markdown",
   "metadata": {},
   "source": [
    "# Merge Categoria"
   ]
  },
  {
   "cell_type": "code",
   "execution_count": null,
   "metadata": {},
   "outputs": [],
   "source": [
    "merge_con_datosbasicos_ventas_categ = pd.merge(merge_con_datosbasicos_ventas, categorias, on='TIENDA', how='left', suffixes=('', '_cat'))"
   ]
  },
  {
   "cell_type": "code",
   "execution_count": 11,
   "metadata": {},
   "outputs": [
    {
     "ename": "",
     "evalue": "",
     "output_type": "error",
     "traceback": [
      "\u001b[1;31mThe Kernel crashed while executing code in the current cell or a previous cell. \n",
      "\u001b[1;31mPlease review the code in the cell(s) to identify a possible cause of the failure. \n",
      "\u001b[1;31mClick <a href='https://aka.ms/vscodeJupyterKernelCrash'>here</a> for more info. \n",
      "\u001b[1;31mView Jupyter <a href='command:jupyter.viewOutput'>log</a> for further details."
     ]
    }
   ],
   "source": [
    "# Genera archivo en csv\n",
    "#merge_con_datosbasicos_ventas_categ.to_csv('../files/base_de_datos.csv', index=False)\n",
    "merge_con_datosbasicos.to_excel('../files/base_de_datos.xlsx', index=False, sheet_name='Base de Datos')"
   ]
  }
 ],
 "metadata": {
  "kernelspec": {
   "display_name": "entorno-env",
   "language": "python",
   "name": "python3"
  },
  "language_info": {
   "codemirror_mode": {
    "name": "ipython",
    "version": 3
   },
   "file_extension": ".py",
   "mimetype": "text/x-python",
   "name": "python",
   "nbconvert_exporter": "python",
   "pygments_lexer": "ipython3",
   "version": "3.12.4"
  }
 },
 "nbformat": 4,
 "nbformat_minor": 2
}
